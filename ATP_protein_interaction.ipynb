{
  "nbformat": 4,
  "nbformat_minor": 0,
  "metadata": {
    "colab": {
      "name": "ATP-protein_interaction.ipynb",
      "provenance": [],
      "collapsed_sections": [
        "RMLxfmqaJXHX"
      ]
    },
    "kernelspec": {
      "name": "python3",
      "display_name": "Python 3"
    },
    "accelerator": "GPU"
  },
  "cells": [
    {
      "cell_type": "markdown",
      "metadata": {
        "id": "C4lGjmEG2Nox",
        "colab_type": "text"
      },
      "source": [
        "# **Header File**\n",
        "\n",
        "---\n",
        "\n"
      ]
    },
    {
      "cell_type": "code",
      "metadata": {
        "id": "_sIMyXWh1cgf",
        "colab_type": "code",
        "colab": {}
      },
      "source": [
        "import pandas as pd\n",
        "import csv\n",
        "import itertools\n",
        "import matplotlib.pyplot as plt\n",
        "import numpy as np\n",
        "from sklearn import svm\n",
        "from sklearn import metrics\n",
        "from sklearn import model_selection\n",
        "from sklearn.utils import shuffle\n",
        "from sklearn.ensemble import RandomForestClassifier\n",
        "import random"
      ],
      "execution_count": 0,
      "outputs": []
    },
    {
      "cell_type": "code",
      "metadata": {
        "id": "cYzZwQun4YQd",
        "colab_type": "code",
        "colab": {}
      },
      "source": [
        "df=pd.read_csv(r'https://raw.githubusercontent.com/samarth1107/ATP-Protein_Interaction/master/train.data')\n",
        "test_df=pd.read_csv(r'https://raw.githubusercontent.com/samarth1107/ATP-Protein_Interaction/master/test.txt')"
      ],
      "execution_count": 0,
      "outputs": []
    },
    {
      "cell_type": "markdown",
      "metadata": {
        "id": "zrdYEezugJ-2",
        "colab_type": "text"
      },
      "source": [
        "# **Train Data**\n",
        "\n",
        "---\n",
        "\n"
      ]
    },
    {
      "cell_type": "code",
      "metadata": {
        "id": "5ENrCVgQMWGo",
        "colab_type": "code",
        "colab": {}
      },
      "source": [
        "##File is created and saved to github\n",
        "##Create array of 17 window length\n",
        "\n",
        "def check(char):\n",
        "  if char.islower():return 1\n",
        "  return -1\n",
        "\n",
        "window_size = 17//2                     #17 window size is taken\n",
        "\n",
        "data = []\n",
        "for row in range(len(df)):              #to get row number\n",
        "  \n",
        "  protein_size=len(df.loc[row][1])      #to get size of protein at row\n",
        "  \n",
        "  for i in range(protein_size):\n",
        "    if i<window_size:\n",
        "      data.append([ ('X'*(window_size-i)+df.loc[row][1][0:i+window_size+1]) , check(df.loc[row][1][i])])\n",
        "    elif i>protein_size-window_size-1:\n",
        "      data.append([ (df.loc[row][1][i-window_size:]+'X'*(i-protein_size+window_size+1)) , check(df.loc[row][1][i])])\n",
        "    else:\n",
        "      data.append([ (df.loc[row][1][i-window_size:i+window_size+1]) , check(df.loc[row][1][i])])\n",
        "\n",
        "Train_data = pd.DataFrame(data, columns=['Sequence','Label'])\n",
        "Train_data['Sequence'] = Train_data['Sequence'].apply(lambda x: x.upper())"
      ],
      "execution_count": 0,
      "outputs": []
    },
    {
      "cell_type": "code",
      "metadata": {
        "id": "xWH2pHHEN3Zx",
        "colab_type": "code",
        "colab": {}
      },
      "source": [
        "## File creation\n",
        "## Onehot coversion\n",
        "codes = {'A':1, 'C':2, 'D':3, 'E':4, 'F':5, 'G':6, 'H':7, 'I':8, 'K':9, 'L':10,'M':11, 'N':12, 'P':13, 'Q':14, 'R':15, 'S':16, 'T':17, 'V':18, 'W':19, 'X':20, 'Y':21}\n",
        "onehot_matrix=pd.get_dummies(pd.Series(list('ACDEFGHIKLMNPQRSTVWXY')))\n",
        "\n",
        "data = []\n",
        "for row in range(len(Train_data)):                                      #to iterate through modified train data\n",
        "  temp=[]\n",
        "  for residue in Train_data.iloc[row,0]:                                #to get residue at ith row \n",
        "    temp.append(onehot_matrix.iloc[:,codes.get(residue,0)-1].tolist())\n",
        "  temp=list(itertools.chain.from_iterable(temp))                        #to flatten list\n",
        "  data.append([temp,Train_data.iloc[row,1]])\n",
        "\n",
        "onehot_df = pd.DataFrame(data, columns = ['Onehot','Label'])"
      ],
      "execution_count": 0,
      "outputs": []
    },
    {
      "cell_type": "code",
      "metadata": {
        "id": "eIKRV_azoAsD",
        "colab_type": "code",
        "colab": {}
      },
      "source": [
        "# To get hydrophobic feature\n",
        "Hydrophobics = {'A':1, 'C':-1, 'D':0, 'E':0, 'F':1, 'G':-1, 'H':0, 'I':1, 'K':0, 'L':1,'M':1, 'N':-1, 'P':1, 'Q':-1, 'R':0, 'S':-1, 'T':-1, 'V':1, 'W':1, 'X':0, 'Y':-1}\n",
        "data = []\n",
        "for row in range(len(Train_data)):                                      #to iterate through modified train data\n",
        "  temp=[]\n",
        "  for residue in Train_data.iloc[row,0]:                                #to get residue at ith row \n",
        "    temp.append(Hydrophobics.get(residue,0))\n",
        "  data.append(temp)\n",
        "onehot_df['hydrophobicity']=(data)"
      ],
      "execution_count": 0,
      "outputs": []
    },
    {
      "cell_type": "code",
      "metadata": {
        "id": "_Bxq3wdl9wGL",
        "colab_type": "code",
        "outputId": "c3f62ca7-c0ec-46cc-d17a-6a2fe68beda2",
        "colab": {
          "base_uri": "https://localhost:8080/",
          "height": 151
        }
      },
      "source": [
        "onehot_df = shuffle(onehot_df)\n",
        "onehot_df = onehot_df.reset_index(drop=True)\n",
        "\n",
        "Interacting_residue=[]\n",
        "count=0\n",
        "for row in range(len(onehot_df)):\n",
        "  if onehot_df.iloc[row,1]==1:\n",
        "    Interacting_residue.append([onehot_df.iloc[row,0],onehot_df.iloc[row,2],onehot_df.iloc[row,1]])\n",
        "    count+=1\n",
        "\n",
        "for row in range(0,count+1):\n",
        "  if onehot_df.iloc[row,1]==-1:\n",
        "    Interacting_residue.append([onehot_df.iloc[row,0],onehot_df.iloc[row,2],onehot_df.iloc[row,1]])\n",
        "\n",
        "equal=pd.DataFrame(Interacting_residue)\n",
        "equal = shuffle(equal)\n",
        "equal = equal.reset_index(drop=True)\n",
        "print(equal.head())\n",
        "\n",
        "X=[]\n",
        "for row in range(len(equal)):\n",
        "  X.append([equal.iloc[row,0],equal.iloc[row,1]])\n",
        "  X[row]=list(itertools.chain.from_iterable(X[row]))\n",
        "Y=equal.iloc[:,2].tolist()"
      ],
      "execution_count": 0,
      "outputs": [
        {
          "output_type": "stream",
          "text": [
            "                                                   0  ...  2\n",
            "0  [1, 0, 0, 0, 0, 0, 0, 0, 0, 0, 0, 0, 0, 0, 0, ...  ... -1\n",
            "1  [0, 0, 0, 0, 0, 0, 0, 0, 0, 0, 0, 0, 1, 0, 0, ...  ...  1\n",
            "2  [0, 0, 0, 0, 0, 0, 0, 0, 0, 0, 0, 0, 0, 0, 0, ...  ...  1\n",
            "3  [0, 0, 0, 0, 0, 0, 0, 0, 0, 0, 0, 0, 0, 0, 1, ...  ...  1\n",
            "4  [0, 0, 0, 0, 0, 0, 0, 0, 0, 0, 0, 0, 0, 0, 1, ...  ... -1\n",
            "\n",
            "[5 rows x 3 columns]\n"
          ],
          "name": "stdout"
        }
      ]
    },
    {
      "cell_type": "markdown",
      "metadata": {
        "id": "o9VavTA83Kqy",
        "colab_type": "text"
      },
      "source": [
        "# **Test data**\n",
        "\n",
        "---\n"
      ]
    },
    {
      "cell_type": "code",
      "metadata": {
        "id": "qE3CXFayuVjA",
        "colab_type": "code",
        "colab": {}
      },
      "source": [
        "## to create array of 17 size window\n",
        "test_size=len(test_df.iloc[:,1])\n",
        "test_data_raw=[]\n",
        "window_size = 17//2\n",
        "\n",
        "for row in range(test_size):              #to get row number\n",
        "    if row<window_size:\n",
        "      test_data_raw.append('X'*(window_size-row)+(''.join(map(str,test_df.iloc[0:row+window_size+1,1].tolist()))))\n",
        "    elif row>test_size-window_size-1:\n",
        "      test_data_raw.append((''.join(map(str,test_df.iloc[row-window_size:,1].tolist())))+'X'*(row-test_size+window_size+1))\n",
        "    else:\n",
        "      test_data_raw.append(''.join(map(str,test_df.iloc[row-window_size:row+window_size+1,1].tolist())))\n",
        "\n",
        "test_data_raw=pd.DataFrame(test_data_raw)"
      ],
      "execution_count": 0,
      "outputs": []
    },
    {
      "cell_type": "code",
      "metadata": {
        "id": "uZJSyFeFwQcv",
        "colab_type": "code",
        "colab": {}
      },
      "source": [
        "## Onehot coversion\n",
        "codes = {'A':1, 'C':2, 'D':3, 'E':4, 'F':5, 'G':6, 'H':7, 'I':8, 'K':9, 'L':10,'M':11, 'N':12, 'P':13, 'Q':14, 'R':15, 'S':16, 'T':17, 'V':18, 'W':19, 'X':20, 'Y':21}\n",
        "\n",
        "onehot_matrix=pd.get_dummies(pd.Series(list('ACDEFGHIKLMNPQRSTVWXY')))\n",
        "\n",
        "Test_data=[]\n",
        "\n",
        "for i in range(len(test_data_raw)):         #to iterate through modified train data\n",
        "  temp=[]\n",
        "  for residue in test_data_raw.iloc[i,0]:   #to get residue at ith row \n",
        "    temp.append(onehot_matrix.iloc[:,codes.get(residue,0)-1].tolist())\n",
        "    #temp.append(codes.get(residue,0)-1)\n",
        "  temp=list(itertools.chain.from_iterable(temp))\n",
        "  Test_data.append([temp])\n",
        "\n",
        "Test_data=pd.DataFrame(Test_data,columns=['Onehot'])"
      ],
      "execution_count": 0,
      "outputs": []
    },
    {
      "cell_type": "code",
      "metadata": {
        "id": "hvBo_7JPQMBI",
        "colab_type": "code",
        "colab": {}
      },
      "source": [
        "# Hydrophobic feature\n",
        "Hydrophobics = {'A':1, 'C':-1, 'D':0, 'E':0, 'F':1, 'G':-1, 'H':0, 'I':1, 'K':0, 'L':1,'M':1, 'N':-1, 'P':1, 'Q':-1, 'R':0, 'S':-1, 'T':-1, 'V':1, 'W':1, 'X':0, 'Y':-1}\n",
        "data = []\n",
        "for row in range(len(test_data_raw)):                                      #to iterate through modified train data\n",
        "  temp=[]\n",
        "  for residue in test_data_raw.iloc[row,0]:                                #to get residue at ith row \n",
        "    temp.append(Hydrophobics.get(residue,0))\n",
        "  data.append(temp)\n",
        "Test_data['hydrophobicity']=(data)"
      ],
      "execution_count": 0,
      "outputs": []
    },
    {
      "cell_type": "code",
      "metadata": {
        "id": "g0AvdgtnHD1s",
        "colab_type": "code",
        "colab": {}
      },
      "source": [
        "X__predict=[]\n",
        "for i in range(len(Test_data)):\n",
        "  X__predict.append(list(itertools.chain.from_iterable([Test_data.iloc[i,0],Test_data.iloc[i,1]])))"
      ],
      "execution_count": 0,
      "outputs": []
    },
    {
      "cell_type": "markdown",
      "metadata": {
        "id": "MwQUxg1qUfrc",
        "colab_type": "text"
      },
      "source": [
        "# **Model Selection and testing on ROC_AUC**\n",
        "\n",
        "\n",
        "\n",
        "---\n",
        "\n"
      ]
    },
    {
      "cell_type": "code",
      "metadata": {
        "id": "wEqOJzI4X40F",
        "colab_type": "code",
        "outputId": "ac37c2f0-329f-4323-9919-2d50580418f4",
        "colab": {
          "base_uri": "https://localhost:8080/",
          "height": 348
        }
      },
      "source": [
        "from statsmodels.stats import weightstats as stests\n",
        "from sklearn.svm import LinearSVC\n",
        "from sklearn.svm import SVC,NuSVC\n",
        "from sklearn.linear_model import LogisticRegression\n",
        "from sklearn.metrics import accuracy_score\n",
        "from sklearn.neighbors import KNeighborsClassifier\n",
        "from sklearn.ensemble import RandomForestClassifier\n",
        "from sklearn.ensemble import AdaBoostClassifier\n",
        "from sklearn.metrics import f1_score\n",
        "from sklearn.naive_bayes import GaussianNB\n",
        "from sklearn import model_selection\n",
        "from sklearn.metrics import confusion_matrix\n",
        "from sklearn.preprocessing import StandardScaler\n",
        "from sklearn.decomposition import PCA\n",
        "\n",
        "models = []\n",
        "models.append(('KNN', KNeighborsClassifier(n_neighbors=5)))\n",
        "models.append(('NB', GaussianNB()))\n",
        "models.append(('SVMR', SVC(kernel='rbf',gamma=0.01,C=5)))\n",
        "models.append(('nuSVMR', NuSVC(kernel='rbf',gamma=0.01)))\n",
        "models.append(('Random', RandomForestClassifier(n_estimators=130)))\n",
        "\n",
        "results = []\n",
        "names = []\n",
        "scoring = 'roc_auc'\n",
        "for name, model in models:\n",
        "    kfold = model_selection.KFold(n_splits=5, shuffle=True)\n",
        "    res = model_selection.cross_val_score(model, X, Y, cv=kfold, scoring=scoring)\n",
        "    results.append(res)\n",
        "    names.append(name)\n",
        "\n",
        "fig = plt.figure()                  \n",
        "fig.suptitle('Classification')\n",
        "ax = fig.add_subplot()\n",
        "plt.boxplot(results)\n",
        "ax.set_xticklabels(names)\n",
        "plt.rcParams['figure.figsize'] = [20,10]\n",
        "plt.show()"
      ],
      "execution_count": 0,
      "outputs": [
        {
          "output_type": "stream",
          "text": [
            "/usr/local/lib/python3.6/dist-packages/statsmodels/tools/_testing.py:19: FutureWarning: pandas.util.testing is deprecated. Use the functions in the public API at pandas.testing instead.\n",
            "  import pandas.util.testing as tm\n"
          ],
          "name": "stderr"
        },
        {
          "output_type": "display_data",
          "data": {
            "image/png": "[encoded data removed]",
            "text/plain": [
              "<Figure size 432x288 with 1 Axes>"
            ]
          },
          "metadata": {
            "tags": [],
            "needs_background": "light"
          }
        }
      ]
    },
    {
      "cell_type": "markdown",
      "metadata": {
        "id": "RMLxfmqaJXHX",
        "colab_type": "text"
      },
      "source": [
        "# **SVM model testing and training**"
      ]
    },
    {
      "cell_type": "code",
      "metadata": {
        "id": "AKHD8KwCWTkS",
        "colab_type": "code",
        "colab": {}
      },
      "source": [
        "X_train, X_test, Y_train, Y_test=model_selection.train_test_split(X, Y, test_size = 0.20, random_state = 10)"
      ],
      "execution_count": 0,
      "outputs": []
    },
    {
      "cell_type": "code",
      "metadata": {
        "id": "da1qz4loqRRh",
        "colab_type": "code",
        "colab": {}
      },
      "source": [
        "param_grid = {'C': [50,40,30,20,10],  \n",
        "              'gamma': [10,1,0.1,0.001,0.0001], \n",
        "              'kernel': ['rbf']}  \n",
        "  \n",
        "grid = model_selection.GridSearchCV(svm.SVC(), param_grid, refit = True, cv = 5, scoring='roc_auc')\n",
        "grid.fit(X, Y)\n",
        "\n",
        "print(grid.best_score_)\n",
        "print(grid.best_params_)"
      ],
      "execution_count": 0,
      "outputs": []
    },
    {
      "cell_type": "code",
      "metadata": {
        "id": "LoSdj-9VaOvO",
        "colab_type": "code",
        "colab": {}
      },
      "source": [
        "SVC_classifier = svm.SVC(kernel='rbf', C=40, gamma=0.1)\n",
        "scores = model_selection.cross_val_score(SVC_classifier, X, Y, cv=5, scoring='roc_auc')\n",
        "print(scores)\n",
        "print(np.mean(scores))"
      ],
      "execution_count": 0,
      "outputs": []
    },
    {
      "cell_type": "code",
      "metadata": {
        "id": "gtK-8cZDfRU8",
        "colab_type": "code",
        "colab": {}
      },
      "source": [
        "SVC_classifier.fit(X_train,Y_train)\n",
        "\n",
        "Y_predict=SVC_classifier.predict(X_test)\n",
        "\n",
        "print(metrics.accuracy_score(Y_test,Y_predict))\n",
        "print(metrics.confusion_matrix(Y_test,Y_predict))\n",
        "print(metrics.classification_report(Y_test,Y_predict))"
      ],
      "execution_count": 0,
      "outputs": []
    },
    {
      "cell_type": "code",
      "metadata": {
        "id": "nMFYhMImJxab",
        "colab_type": "code",
        "colab": {}
      },
      "source": [
        "Predicted_result = SVC_classifier.predict(X__predict)\n",
        "\n",
        "data = {'ID': test_df.iloc[:,0],\n",
        "        'Lable': Predicted_result\n",
        "        }\n",
        "Sample = pd.DataFrame(data, columns = ['ID', 'Lable'])\n",
        "Sample.to_csv('Output.csv',index=False)"
      ],
      "execution_count": 0,
      "outputs": []
    },
    {
      "cell_type": "markdown",
      "metadata": {
        "id": "Grgob_hBJiau",
        "colab_type": "text"
      },
      "source": [
        "# **Random forest testing and trainng**"
      ]
    },
    {
      "cell_type": "code",
      "metadata": {
        "id": "s3pkXr3LJhWe",
        "colab_type": "code",
        "colab": {}
      },
      "source": [
        "X_train, X_test, Y_train, Y_test=model_selection.train_test_split(X, Y, test_size = 0.20, random_state = 10)"
      ],
      "execution_count": 0,
      "outputs": []
    },
    {
      "cell_type": "code",
      "metadata": {
        "id": "hNQxP7RY2uCu",
        "colab_type": "code",
        "colab": {}
      },
      "source": [
        "n_estimate=[200,300,320,350,370]\n",
        "scores=[]\n",
        "for i in range(5):\n",
        "  scores.append(model_selection.cross_val_score(RandomForestClassifier(n_estimators=n_estimate[i]), X, Y, cv=5, scoring=\"roc_auc\"))\n",
        "for i in scores:\n",
        "  print(np.mean(i))"
      ],
      "execution_count": 0,
      "outputs": []
    },
    {
      "cell_type": "code",
      "metadata": {
        "id": "EI8lAYGY4A_f",
        "colab_type": "code",
        "colab": {}
      },
      "source": [
        "Randomclassifier = RandomForestClassifier(n_estimators=350)\n",
        "Randomclassifier.fit(X_train,Y_train)\n",
        "\n",
        "Y_predict=Randomclassifier.predict(X_test)\n",
        "\n",
        "print(metrics.accuracy_score(Y_test,Y_predict))\n",
        "print(metrics.confusion_matrix(Y_test,Y_predict))\n",
        "print(metrics.classification_report(Y_test,Y_predict))"
      ],
      "execution_count": 0,
      "outputs": []
    },
    {
      "cell_type": "code",
      "metadata": {
        "id": "pdT5AHcqiXic",
        "colab_type": "code",
        "colab": {}
      },
      "source": [
        "Predicted_result = Randomclassifier.predict(X__predict)\n",
        "\n",
        "data = {'ID': test_df.iloc[:,0],\n",
        "        'Lable': Predicted_result\n",
        "        }\n",
        "Sample = pd.DataFrame(data, columns = ['ID', 'Lable'])\n",
        "Sample.to_csv('Output.csv',index=False)"
      ],
      "execution_count": 0,
      "outputs": []
    }
  ]
}